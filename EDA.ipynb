{
 "cells": [
  {
   "cell_type": "code",
   "execution_count": 1,
   "id": "2885b0cb",
   "metadata": {
    "id": "_d9GKkCDxQmX"
   },
   "outputs": [],
   "source": [
    "import pandas as pd\n",
    "import numpy as np\n",
    "import datetime as dt\n",
    "from tqdm import tqdm\n",
    "import matplotlib.pyplot as plt"
   ]
  },
  {
   "cell_type": "code",
   "execution_count": 2,
   "id": "8df95fe6",
   "metadata": {},
   "outputs": [],
   "source": [
    "Belgium = pd.read_hdf(\"Temp/BEL_TEMP_GEFS.h5\")"
   ]
  },
  {
   "cell_type": "code",
   "execution_count": 3,
   "id": "713b22fd",
   "metadata": {},
   "outputs": [],
   "source": [
    "Belgium2022 = Belgium[Belgium['ForecastDateTime'] > pd.to_datetime(\"2021-12-31\")]"
   ]
  },
  {
   "cell_type": "code",
   "execution_count": 4,
   "id": "6a809bd4",
   "metadata": {},
   "outputs": [
    {
     "name": "stderr",
     "output_type": "stream",
     "text": [
      "<ipython-input-4-6e59954645df>:1: SettingWithCopyWarning: \n",
      "A value is trying to be set on a copy of a slice from a DataFrame.\n",
      "Try using .loc[row_indexer,col_indexer] = value instead\n",
      "\n",
      "See the caveats in the documentation: https://pandas.pydata.org/pandas-docs/stable/user_guide/indexing.html#returning-a-view-versus-a-copy\n",
      "  Belgium2022['TimeDelta_h'] = (Belgium2022['ValueDateTime'] - Belgium2022['ForecastDateTime']).astype('timedelta64[h]').astype(int)\n"
     ]
    }
   ],
   "source": [
    "Belgium2022['TimeDelta_h'] = (Belgium2022['ValueDateTime'] - Belgium2022['ForecastDateTime']).astype('timedelta64[h]').astype(int)"
   ]
  },
  {
   "cell_type": "code",
   "execution_count": 5,
   "id": "e6ca29ce",
   "metadata": {},
   "outputs": [
    {
     "name": "stderr",
     "output_type": "stream",
     "text": [
      "<ipython-input-5-05e80ee63d16>:1: SettingWithCopyWarning: \n",
      "A value is trying to be set on a copy of a slice from a DataFrame.\n",
      "Try using .loc[row_indexer,col_indexer] = value instead\n",
      "\n",
      "See the caveats in the documentation: https://pandas.pydata.org/pandas-docs/stable/user_guide/indexing.html#returning-a-view-versus-a-copy\n",
      "  Belgium2022['TimeDelta_d'] = Belgium2022['TimeDelta_h']/24\n"
     ]
    }
   ],
   "source": [
    "Belgium2022['TimeDelta_d'] = Belgium2022['TimeDelta_h']/24"
   ]
  },
  {
   "cell_type": "code",
   "execution_count": 6,
   "id": "341171be",
   "metadata": {},
   "outputs": [],
   "source": [
    "Belgium2022 = Belgium2022.iloc[-50000:] # Just look at the last 50k rows"
   ]
  },
  {
   "cell_type": "code",
   "execution_count": 7,
   "id": "def1281d",
   "metadata": {},
   "outputs": [
    {
     "name": "stderr",
     "output_type": "stream",
     "text": [
      "  0%|          | 0/50000 [00:00<?, ?it/s]\n"
     ]
    },
    {
     "ename": "KeyError",
     "evalue": "'TimeDelta'",
     "output_type": "error",
     "traceback": [
      "\u001b[0;31m---------------------------------------------------------------------------\u001b[0m",
      "\u001b[0;31mKeyError\u001b[0m                                  Traceback (most recent call last)",
      "\u001b[0;32m~/opt/anaconda3/lib/python3.8/site-packages/pandas/core/indexes/base.py\u001b[0m in \u001b[0;36mget_loc\u001b[0;34m(self, key, method, tolerance)\u001b[0m\n\u001b[1;32m   3079\u001b[0m             \u001b[0;32mtry\u001b[0m\u001b[0;34m:\u001b[0m\u001b[0;34m\u001b[0m\u001b[0;34m\u001b[0m\u001b[0m\n\u001b[0;32m-> 3080\u001b[0;31m                 \u001b[0;32mreturn\u001b[0m \u001b[0mself\u001b[0m\u001b[0;34m.\u001b[0m\u001b[0m_engine\u001b[0m\u001b[0;34m.\u001b[0m\u001b[0mget_loc\u001b[0m\u001b[0;34m(\u001b[0m\u001b[0mcasted_key\u001b[0m\u001b[0;34m)\u001b[0m\u001b[0;34m\u001b[0m\u001b[0;34m\u001b[0m\u001b[0m\n\u001b[0m\u001b[1;32m   3081\u001b[0m             \u001b[0;32mexcept\u001b[0m \u001b[0mKeyError\u001b[0m \u001b[0;32mas\u001b[0m \u001b[0merr\u001b[0m\u001b[0;34m:\u001b[0m\u001b[0;34m\u001b[0m\u001b[0;34m\u001b[0m\u001b[0m\n",
      "\u001b[0;32mpandas/_libs/index.pyx\u001b[0m in \u001b[0;36mpandas._libs.index.IndexEngine.get_loc\u001b[0;34m()\u001b[0m\n",
      "\u001b[0;32mpandas/_libs/index.pyx\u001b[0m in \u001b[0;36mpandas._libs.index.IndexEngine.get_loc\u001b[0;34m()\u001b[0m\n",
      "\u001b[0;32mpandas/_libs/hashtable_class_helper.pxi\u001b[0m in \u001b[0;36mpandas._libs.hashtable.PyObjectHashTable.get_item\u001b[0;34m()\u001b[0m\n",
      "\u001b[0;32mpandas/_libs/hashtable_class_helper.pxi\u001b[0m in \u001b[0;36mpandas._libs.hashtable.PyObjectHashTable.get_item\u001b[0;34m()\u001b[0m\n",
      "\u001b[0;31mKeyError\u001b[0m: 'TimeDelta'",
      "\nThe above exception was the direct cause of the following exception:\n",
      "\u001b[0;31mKeyError\u001b[0m                                  Traceback (most recent call last)",
      "\u001b[0;32m<ipython-input-7-b85f69d098ca>\u001b[0m in \u001b[0;36m<module>\u001b[0;34m\u001b[0m\n\u001b[1;32m      6\u001b[0m \u001b[0;34m\u001b[0m\u001b[0m\n\u001b[1;32m      7\u001b[0m     \u001b[0mdf_date\u001b[0m \u001b[0;34m=\u001b[0m \u001b[0mBelgium2022\u001b[0m\u001b[0;34m[\u001b[0m\u001b[0mBelgium2022\u001b[0m\u001b[0;34m.\u001b[0m\u001b[0mForecastDateTime\u001b[0m \u001b[0;34m==\u001b[0m \u001b[0mdate\u001b[0m\u001b[0;34m]\u001b[0m\u001b[0;34m\u001b[0m\u001b[0;34m\u001b[0m\u001b[0m\n\u001b[0;32m----> 8\u001b[0;31m     \u001b[0mdf_date_10d\u001b[0m \u001b[0;34m=\u001b[0m \u001b[0mdf_date\u001b[0m\u001b[0;34m[\u001b[0m\u001b[0mdf_date\u001b[0m\u001b[0;34m[\u001b[0m\u001b[0;34m'TimeDelta'\u001b[0m\u001b[0;34m]\u001b[0m \u001b[0;34m==\u001b[0m \u001b[0;36m24\u001b[0m\u001b[0;34m*\u001b[0m\u001b[0minterested_in\u001b[0m\u001b[0;34m]\u001b[0m\u001b[0;34m\u001b[0m\u001b[0;34m\u001b[0m\u001b[0m\n\u001b[0m\u001b[1;32m      9\u001b[0m     \u001b[0mdf_date_10d_redshift\u001b[0m \u001b[0;34m=\u001b[0m \u001b[0mdf_date_10d\u001b[0m\u001b[0;34m[\u001b[0m\u001b[0mdf_date_10d\u001b[0m\u001b[0;34m[\u001b[0m\u001b[0;34m'source'\u001b[0m\u001b[0;34m]\u001b[0m \u001b[0;34m==\u001b[0m \u001b[0;34m\"Redshift\"\u001b[0m\u001b[0;34m]\u001b[0m\u001b[0;34m\u001b[0m\u001b[0;34m\u001b[0m\u001b[0m\n\u001b[1;32m     10\u001b[0m     \u001b[0mstandard_deviation\u001b[0m \u001b[0;34m=\u001b[0m \u001b[0mdf_date_10d_redshift\u001b[0m\u001b[0;34m[\u001b[0m\u001b[0;34m'value'\u001b[0m\u001b[0;34m]\u001b[0m\u001b[0;34m.\u001b[0m\u001b[0mstd\u001b[0m\u001b[0;34m(\u001b[0m\u001b[0;34m)\u001b[0m\u001b[0;34m\u001b[0m\u001b[0;34m\u001b[0m\u001b[0m\n",
      "\u001b[0;32m~/opt/anaconda3/lib/python3.8/site-packages/pandas/core/frame.py\u001b[0m in \u001b[0;36m__getitem__\u001b[0;34m(self, key)\u001b[0m\n\u001b[1;32m   3022\u001b[0m             \u001b[0;32mif\u001b[0m \u001b[0mself\u001b[0m\u001b[0;34m.\u001b[0m\u001b[0mcolumns\u001b[0m\u001b[0;34m.\u001b[0m\u001b[0mnlevels\u001b[0m \u001b[0;34m>\u001b[0m \u001b[0;36m1\u001b[0m\u001b[0;34m:\u001b[0m\u001b[0;34m\u001b[0m\u001b[0;34m\u001b[0m\u001b[0m\n\u001b[1;32m   3023\u001b[0m                 \u001b[0;32mreturn\u001b[0m \u001b[0mself\u001b[0m\u001b[0;34m.\u001b[0m\u001b[0m_getitem_multilevel\u001b[0m\u001b[0;34m(\u001b[0m\u001b[0mkey\u001b[0m\u001b[0;34m)\u001b[0m\u001b[0;34m\u001b[0m\u001b[0;34m\u001b[0m\u001b[0m\n\u001b[0;32m-> 3024\u001b[0;31m             \u001b[0mindexer\u001b[0m \u001b[0;34m=\u001b[0m \u001b[0mself\u001b[0m\u001b[0;34m.\u001b[0m\u001b[0mcolumns\u001b[0m\u001b[0;34m.\u001b[0m\u001b[0mget_loc\u001b[0m\u001b[0;34m(\u001b[0m\u001b[0mkey\u001b[0m\u001b[0;34m)\u001b[0m\u001b[0;34m\u001b[0m\u001b[0;34m\u001b[0m\u001b[0m\n\u001b[0m\u001b[1;32m   3025\u001b[0m             \u001b[0;32mif\u001b[0m \u001b[0mis_integer\u001b[0m\u001b[0;34m(\u001b[0m\u001b[0mindexer\u001b[0m\u001b[0;34m)\u001b[0m\u001b[0;34m:\u001b[0m\u001b[0;34m\u001b[0m\u001b[0;34m\u001b[0m\u001b[0m\n\u001b[1;32m   3026\u001b[0m                 \u001b[0mindexer\u001b[0m \u001b[0;34m=\u001b[0m \u001b[0;34m[\u001b[0m\u001b[0mindexer\u001b[0m\u001b[0;34m]\u001b[0m\u001b[0;34m\u001b[0m\u001b[0;34m\u001b[0m\u001b[0m\n",
      "\u001b[0;32m~/opt/anaconda3/lib/python3.8/site-packages/pandas/core/indexes/base.py\u001b[0m in \u001b[0;36mget_loc\u001b[0;34m(self, key, method, tolerance)\u001b[0m\n\u001b[1;32m   3080\u001b[0m                 \u001b[0;32mreturn\u001b[0m \u001b[0mself\u001b[0m\u001b[0;34m.\u001b[0m\u001b[0m_engine\u001b[0m\u001b[0;34m.\u001b[0m\u001b[0mget_loc\u001b[0m\u001b[0;34m(\u001b[0m\u001b[0mcasted_key\u001b[0m\u001b[0;34m)\u001b[0m\u001b[0;34m\u001b[0m\u001b[0;34m\u001b[0m\u001b[0m\n\u001b[1;32m   3081\u001b[0m             \u001b[0;32mexcept\u001b[0m \u001b[0mKeyError\u001b[0m \u001b[0;32mas\u001b[0m \u001b[0merr\u001b[0m\u001b[0;34m:\u001b[0m\u001b[0;34m\u001b[0m\u001b[0;34m\u001b[0m\u001b[0m\n\u001b[0;32m-> 3082\u001b[0;31m                 \u001b[0;32mraise\u001b[0m \u001b[0mKeyError\u001b[0m\u001b[0;34m(\u001b[0m\u001b[0mkey\u001b[0m\u001b[0;34m)\u001b[0m \u001b[0;32mfrom\u001b[0m \u001b[0merr\u001b[0m\u001b[0;34m\u001b[0m\u001b[0;34m\u001b[0m\u001b[0m\n\u001b[0m\u001b[1;32m   3083\u001b[0m \u001b[0;34m\u001b[0m\u001b[0m\n\u001b[1;32m   3084\u001b[0m         \u001b[0;32mif\u001b[0m \u001b[0mtolerance\u001b[0m \u001b[0;32mis\u001b[0m \u001b[0;32mnot\u001b[0m \u001b[0;32mNone\u001b[0m\u001b[0;34m:\u001b[0m\u001b[0;34m\u001b[0m\u001b[0;34m\u001b[0m\u001b[0m\n",
      "\u001b[0;31mKeyError\u001b[0m: 'TimeDelta'"
     ]
    }
   ],
   "source": [
    "interested_in = 10 # Which forecast horizon are you interested in? (in days)\n",
    "\n",
    "std_devs = []\n",
    "\n",
    "for date in tqdm(Belgium2022.ForecastDateTime, position = 0, leave = True):\n",
    "\n",
    "    df_date = Belgium2022[Belgium2022.ForecastDateTime == date]\n",
    "    df_date_10d = df_date[df_date['TimeDelta'] == 24*interested_in]\n",
    "    df_date_10d_redshift = df_date_10d[df_date_10d['source'] == \"Redshift\"]\n",
    "    standard_deviation = df_date_10d_redshift['value'].std()\n",
    "    std_devs.append(standard_deviation)"
   ]
  },
  {
   "cell_type": "code",
   "execution_count": 8,
   "id": "f3bfde7d",
   "metadata": {},
   "outputs": [
    {
     "name": "stderr",
     "output_type": "stream",
     "text": [
      "<ipython-input-8-d7d3b9392131>:2: DeprecationWarning: The default dtype for empty Series will be 'object' instead of 'float64' in a future version. Specify a dtype explicitly to silence this warning.\n",
      "  ax.plot(pd.Series(std_devs).rolling(120).mean())\n"
     ]
    },
    {
     "data": {
      "image/png": "[encoded data removed]",
      "text/plain": [
       "<Figure size 1440x720 with 1 Axes>"
      ]
     },
     "metadata": {
      "needs_background": "light"
     },
     "output_type": "display_data"
    }
   ],
   "source": [
    "fig, ax = plt.subplots()\n",
    "ax.plot(pd.Series(std_devs).rolling(120).mean())\n",
    "ax.set_title(\"Rolling 30-day standard deviation of ensemble temperature estimates\")\n",
    "fig.set_size_inches(20, 10)"
   ]
  },
  {
   "cell_type": "code",
   "execution_count": 9,
   "id": "656e6258",
   "metadata": {},
   "outputs": [],
   "source": [
    "horizons = Belgium2022.TimeDelta_d.unique()"
   ]
  },
  {
   "cell_type": "code",
   "execution_count": 10,
   "id": "fd4511bc",
   "metadata": {},
   "outputs": [],
   "source": [
    "def find_forecast_std_by_horizon(forecast_date, horizons):\n",
    "\n",
    "    Belgium2022_selected = Belgium2022[Belgium2022.ForecastDateTime == forecast_date ]\n",
    "    std_over_horizons = []\n",
    "    \n",
    "    for horizon in horizons:\n",
    "        indv_ensembles = Belgium2022_selected[Belgium2022_selected['TimeDelta_d'] == horizon]\n",
    "        std_over_horizons.append(indv_ensembles['value'].std())\n",
    "    \n",
    "    return pd.DataFrame(std_over_horizons, index = horizons)"
   ]
  },
  {
   "cell_type": "code",
   "execution_count": 11,
   "id": "ace2287b",
   "metadata": {},
   "outputs": [],
   "source": [
    "overall_df = pd.DataFrame(index = horizons)"
   ]
  },
  {
   "cell_type": "code",
   "execution_count": null,
   "id": "b87dfc61",
   "metadata": {},
   "outputs": [
    {
     "name": "stderr",
     "output_type": "stream",
     "text": [
      " 32%|███▏      | 16103/50000 [08:53<20:14, 27.90it/s]"
     ]
    }
   ],
   "source": [
    "for day in tqdm(Belgium2022.ForecastDateTime, leave = True, position = 0):\n",
    "\n",
    "    overall_df = pd.concat([overall_df, find_forecast_std_by_horizon(day, horizons)], axis = 1)"
   ]
  },
  {
   "cell_type": "code",
   "execution_count": null,
   "id": "cf6d589c",
   "metadata": {},
   "outputs": [],
   "source": [
    "overall_df.sort_index(inplace = True)"
   ]
  },
  {
   "cell_type": "code",
   "execution_count": null,
   "id": "5cc078ce",
   "metadata": {},
   "outputs": [],
   "source": [
    "mean = overall_df.mean(axis = 1)\n",
    "upper_bound = overall_df.mean(axis = 1) + overall_df.std(axis = 1)\n",
    "lower_bound = overall_df.mean(axis = 1) - overall_df.std(axis = 1)\n",
    "\n",
    "upper_bound_2 = overall_df.mean(axis = 1) + 2*overall_df.std(axis = 1)\n",
    "lower_bound_2 = overall_df.mean(axis = 1) - 2*overall_df.std(axis = 1)"
   ]
  },
  {
   "cell_type": "code",
   "execution_count": null,
   "id": "dda5b4c5",
   "metadata": {},
   "outputs": [],
   "source": [
    "fig, ax = plt.subplots()\n",
    "\n",
    "mean.plot(ax = ax, label = r\"Uncertainty: std. dev $(\\{\\hat{y}_{t+k, m}: m \\in M\\})$\", color = 'blue', linewidth = 3)\n",
    "upper_bound.plot(ax = ax, linestyle = '--', color = 'gray', label = r\"+1$\\sigma$\")\n",
    "lower_bound.plot(ax = ax, linestyle = '--', color = 'gray', label = r\"-1$\\sigma$\")\n",
    "\n",
    "upper_bound_2.plot(ax = ax, linestyle = '--', color = 'lightgray', label = r\"+2$\\sigma$\")\n",
    "lower_bound_2.plot(ax = ax, linestyle = '--', color = 'lightgray', label = r\"-2$\\sigma$\")\n",
    "\n",
    "ax.set_ylabel(r\"std. dev ($\\{\\hat{y}_{t+k, m}: m \\in M\\}$)\", fontsize = 16)\n",
    "ax.set_xlabel(r\"Forecast horizon $k$ (in days)\", fontsize = 15)\n",
    "\n",
    "ax.set_title(r\"Average standard deviation of ensemble members forecasts across time horizons\", fontsize = 15)\n",
    "ax.legend(fontsize = 15)\n",
    "ax.grid('on')\n",
    "fig.set_size_inches(20, 10)"
   ]
  },
  {
   "cell_type": "markdown",
   "id": "d7913522",
   "metadata": {},
   "source": [
    "- Visualisation analysing the proportion of the time that the true value falls within the ensemble forecasts (Megi).\n",
    "- Plot of an actual weather time series with 95 CI around it (Tom).\n",
    "- Slides describing problem, plan, details on proposal (Patrik).\n",
    "- Forward to Jeremy and BAM Tuesday morning for approval (Ryan)."
   ]
  }
 ],
 "metadata": {
  "accelerator": "GPU",
  "colab": {
   "collapsed_sections": [],
   "provenance": []
  },
  "gpuClass": "standard",
  "interpreter": {
   "hash": "4e7a58de4b7e505b0e82f0adcc21bb9621f61c2c1c0bdf66b0394a18a0c298a7"
  },
  "kernelspec": {
   "display_name": "Python 3",
   "language": "python",
   "name": "python3"
  },
  "language_info": {
   "codemirror_mode": {
    "name": "ipython",
    "version": 3
   },
   "file_extension": ".py",
   "mimetype": "text/x-python",
   "name": "python",
   "nbconvert_exporter": "python",
   "pygments_lexer": "ipython3",
   "version": "3.8.8"
  }
 },
 "nbformat": 4,
 "nbformat_minor": 5
}
