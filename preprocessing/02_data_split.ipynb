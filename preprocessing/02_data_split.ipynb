{
 "cells": [
  {
   "cell_type": "code",
   "execution_count": 3,
   "metadata": {},
   "outputs": [],
   "source": [
    "import pandas as pd\n",
    "import numpy as np\n",
    "import datetime as dt\n",
    "from tqdm import tqdm\n",
    "import matplotlib.pyplot as plt\n",
    "import statsmodels.api as sm"
   ]
  },
  {
   "cell_type": "markdown",
   "metadata": {},
   "source": [
    "# Load data"
   ]
  },
  {
   "cell_type": "code",
   "execution_count": 4,
   "metadata": {},
   "outputs": [],
   "source": [
    "df_final = pd.read_hdf('data/data.h5', key=\"data\")\n",
    "df_final.sort_index(inplace=True)"
   ]
  },
  {
   "cell_type": "code",
   "execution_count": 17,
   "metadata": {},
   "outputs": [],
   "source": [
    "TRAIN_SIZE = 0.9\n",
    "VAL_SIZE = 0.05\n",
    "\n",
    "n_train = int(len(df_final) * TRAIN_SIZE)\n",
    "n_val = int(len(df_final) * VAL_SIZE)\n",
    "\n",
    "df_train = df_final.iloc[0:n_train]\n",
    "df_val = df_final.iloc[n_train:n_train+n_val]\n",
    "df_test = df_final.iloc[n_train+n_val:]"
   ]
  },
  {
   "cell_type": "code",
   "execution_count": 18,
   "metadata": {},
   "outputs": [],
   "source": [
    "df_train.to_hdf('data/data.h5', key=\"train_univariate\")\n",
    "df_val.to_hdf('data/data.h5', key=\"validation_univariate\")\n",
    "df_test.to_hdf('data/data.h5', key=\"test_univariate\")"
   ]
  },
  {
   "cell_type": "code",
   "execution_count": null,
   "metadata": {},
   "outputs": [],
   "source": []
  }
 ],
 "metadata": {
  "kernelspec": {
   "display_name": "Python 3.9.4 ('env': venv)",
   "language": "python",
   "name": "python3"
  },
  "language_info": {
   "codemirror_mode": {
    "name": "ipython",
    "version": 3
   },
   "file_extension": ".py",
   "mimetype": "text/x-python",
   "name": "python",
   "nbconvert_exporter": "python",
   "pygments_lexer": "ipython3",
   "version": "3.9.4"
  },
  "orig_nbformat": 4,
  "vscode": {
   "interpreter": {
    "hash": "cc65aa8ac7f596cf279d91d1492cdaf43c6884e4b5c66548ca69169c42397557"
   }
  }
 },
 "nbformat": 4,
 "nbformat_minor": 2
}
