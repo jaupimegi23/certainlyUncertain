{
 "cells": [
  {
   "cell_type": "code",
   "execution_count": 1,
   "id": "e7188356-acad-4516-bfbd-62bb8ac06a5f",
   "metadata": {},
   "outputs": [],
   "source": [
    "import pandas as pd\n",
    "import numpy as np\n",
    "import datetime as dt\n",
    "from tqdm import tqdm"
   ]
  },
  {
   "cell_type": "code",
   "execution_count": 2,
   "id": "020c50bb-30a0-4855-9230-7a1d11baa71f",
   "metadata": {},
   "outputs": [],
   "source": [
    "df_EC15 = pd.read_hdf('../data/EC15_split.h5', key=\"train\")"
   ]
  },
  {
   "cell_type": "code",
   "execution_count": 3,
   "id": "4e4ed1ca-42f1-4413-b514-4cb277cc5de2",
   "metadata": {},
   "outputs": [],
   "source": [
    "df_GEFS = pd.read_hdf('../data/GEFS_split.h5', key=\"train\")"
   ]
  },
  {
   "cell_type": "code",
   "execution_count": 31,
   "id": "ef139f1e-c693-4959-af12-63f4467e1714",
   "metadata": {},
   "outputs": [],
   "source": [
    "def geo_difference(df):\n",
    "    df = df.copy()\n",
    "    countries = [\"FRA\", \"NLD\", \"GBR\", \"ESP\", \"DEU\", \"FIN\", \"ITA\"]\n",
    "    \n",
    "    n_cols = []\n",
    "    for s_col in df.columns:\n",
    "        s_cty = s_col[s_col.find(\"-\")+1:s_col.find(\"-\")+4]\n",
    "        for a_cty in countries:\n",
    "            if a_cty != s_cty:\n",
    "                a_col = s_col.replace(s_cty, a_cty)\n",
    "                if a_col in df.columns:\n",
    "                    n_cols.append(pd.Series(np.subtract(df[s_col],df[a_col]), name=s_col+\"_minus_\"+a_col))\n",
    "    df = pd.concat([df] + n_cols, axis=1)\n",
    "    return df"
   ]
  },
  {
   "cell_type": "code",
   "execution_count": 32,
   "id": "57754d60-8ee2-4fc3-ade7-285509cdf38e",
   "metadata": {},
   "outputs": [],
   "source": [
    "df_EC15_diff = geo_difference(df_EC15)"
   ]
  },
  {
   "cell_type": "code",
   "execution_count": null,
   "id": "a4f1386d-ab7a-4549-b192-5af17f2d6f81",
   "metadata": {},
   "outputs": [],
   "source": []
  }
 ],
 "metadata": {
  "kernelspec": {
   "display_name": "Python 3 (ipykernel)",
   "language": "python",
   "name": "python3"
  },
  "language_info": {
   "codemirror_mode": {
    "name": "ipython",
    "version": 3
   },
   "file_extension": ".py",
   "mimetype": "text/x-python",
   "name": "python",
   "nbconvert_exporter": "python",
   "pygments_lexer": "ipython3",
   "version": "3.9.13"
  }
 },
 "nbformat": 4,
 "nbformat_minor": 5
}
