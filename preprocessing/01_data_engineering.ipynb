{
 "cells": [
  {
   "cell_type": "code",
   "execution_count": 1,
   "metadata": {},
   "outputs": [],
   "source": [
    "import pandas as pd\n",
    "import numpy as np\n",
    "import datetime as dt\n",
    "from tqdm import tqdm\n",
    "import matplotlib.pyplot as plt\n",
    "import seaborn as sns\n",
    "import statsmodels.api as sm"
   ]
  },
  {
   "cell_type": "code",
   "execution_count": 2,
   "metadata": {},
   "outputs": [],
   "source": [
    "model_paths = [\n",
    "    \"../Temp/DEU_TEMP_EC15.h5\",\n",
    "    #\"../Temp/DEU_TEMP_GEFS.h5\",\n",
    "    #\"../Temp/FRA_TEMP_EC15.h5\",\n",
    "    #\"../Temp/FRA_TEMP_GEFS.h5\",\n",
    "]"
   ]
  },
  {
   "cell_type": "code",
   "execution_count": 3,
   "metadata": {},
   "outputs": [],
   "source": [
    "models = [pd.read_hdf(path) for path in model_paths]"
   ]
  },
  {
   "cell_type": "code",
   "execution_count": 4,
   "metadata": {},
   "outputs": [],
   "source": [
    "def get_model_name(path):\n",
    "    return path[path.rfind(\"/\")+1:path.rfind(\".\")]"
   ]
  },
  {
   "cell_type": "code",
   "execution_count": 5,
   "metadata": {},
   "outputs": [],
   "source": [
    "for idx, model in enumerate(models):\n",
    "    model[\"model_name\"] = get_model_name(model_paths[idx])"
   ]
  },
  {
   "cell_type": "code",
   "execution_count": 6,
   "metadata": {},
   "outputs": [],
   "source": [
    "df_models = pd.concat(models)"
   ]
  },
  {
   "cell_type": "code",
   "execution_count": 7,
   "metadata": {},
   "outputs": [],
   "source": [
    "del models"
   ]
  },
  {
   "cell_type": "code",
   "execution_count": 8,
   "metadata": {},
   "outputs": [],
   "source": [
    "df_models['TimeDelta_h'] = (df_models['ValueDateTime'] - df_models['ForecastDateTime']).astype('timedelta64[h]').astype(int)"
   ]
  },
  {
   "cell_type": "code",
   "execution_count": 9,
   "metadata": {},
   "outputs": [],
   "source": [
    "df_models.drop([\"InsertionDateTime\", \"ObservationDateTime\", \"PartitionId\", \"PointConnectCurveId\", \"ValueDateTime\", \"source\"], axis=1, inplace=True)"
   ]
  },
  {
   "cell_type": "markdown",
   "metadata": {},
   "source": [
    "Remove observations where timedelta is less than 0 -- I guess some data error"
   ]
  },
  {
   "cell_type": "code",
   "execution_count": 10,
   "metadata": {},
   "outputs": [],
   "source": [
    "df_models = df_models.loc[df_models[\"TimeDelta_h\"] >= 0].copy()"
   ]
  },
  {
   "cell_type": "code",
   "execution_count": 11,
   "metadata": {},
   "outputs": [],
   "source": [
    "df_final = pd.DataFrame(index=sorted(df_models[\"ForecastDateTime\"].unique()))"
   ]
  },
  {
   "cell_type": "code",
   "execution_count": 12,
   "metadata": {},
   "outputs": [],
   "source": [
    "def column_name(columns):\n",
    "    names = []\n",
    "    for i in columns.to_flat_index():\n",
    "        name = \"\"\n",
    "        for i_i in i:\n",
    "            name += str(i_i)\n",
    "            name += \"-\"\n",
    "        name = name[:-1]\n",
    "        names.append(name)\n",
    "    return names"
   ]
  },
  {
   "cell_type": "markdown",
   "metadata": {},
   "source": [
    "# Feature engineering"
   ]
  },
  {
   "cell_type": "markdown",
   "metadata": {},
   "source": [
    "Model 0 value"
   ]
  },
  {
   "cell_type": "code",
   "execution_count": 13,
   "metadata": {},
   "outputs": [],
   "source": [
    "df_model_0 = df_models.loc[df_models['ens_num'] == 0].copy()\n",
    "df_model_0.drop('ens_num', axis=1, inplace=True)\n",
    "df_model_0.rename({\"value\": \"model_0_value\"}, axis=1, inplace=True)\n",
    "\n",
    "df_model_0 = df_model_0.pivot(index=[\"ForecastDateTime\"], columns=[\"model_name\", \"TimeDelta_h\"], values=[\"model_0_value\"])\n",
    "df_model_0.columns = column_name(df_model_0.columns)"
   ]
  },
  {
   "cell_type": "code",
   "execution_count": 14,
   "metadata": {},
   "outputs": [],
   "source": [
    "df_final = df_final.merge(df_model_0, left_index=True, right_index=True, how=\"left\")\n",
    "del df_model_0"
   ]
  },
  {
   "cell_type": "markdown",
   "metadata": {},
   "source": [
    "Ensamble model std"
   ]
  },
  {
   "cell_type": "code",
   "execution_count": 15,
   "metadata": {},
   "outputs": [],
   "source": [
    "df_models_ens_std = df_models.loc[df_models['ens_num'] != 0].groupby(['model_name', 'ForecastDateTime', 'TimeDelta_h'])['value'].apply(lambda x: x.std())\n",
    "df_models_ens_std = df_models_ens_std.to_frame()\n",
    "df_models_ens_std.rename({\"value\": \"ens_std\"}, axis=1, inplace=True)\n",
    "\n",
    "df_models_ens_std = df_models_ens_std.reset_index().pivot(index=[\"ForecastDateTime\"], columns=[\"model_name\", \"TimeDelta_h\"], values=[\"ens_std\"])\n",
    "df_models_ens_std.columns = column_name(df_models_ens_std.columns)"
   ]
  },
  {
   "cell_type": "code",
   "execution_count": 16,
   "metadata": {},
   "outputs": [],
   "source": [
    "df_final = df_final.merge(df_models_ens_std, left_index=True, right_index=True, how=\"left\")\n",
    "del df_models_ens_std"
   ]
  },
  {
   "cell_type": "markdown",
   "metadata": {},
   "source": [
    "MAE"
   ]
  },
  {
   "cell_type": "code",
   "execution_count": 17,
   "metadata": {},
   "outputs": [],
   "source": [
    "df_models_ens_members = df_models[df_models['ens_num'] != 0]\n",
    "df_models_ens_members.set_index([\"ForecastDateTime\", \"model_name\"], inplace=True)\n",
    "\n",
    "df_target_value = df_models[(df_models['ens_num'] == 0) & (df_models['TimeDelta_h'] == 0)]\n",
    "df_target_value.set_index([\"ForecastDateTime\", \"model_name\"], inplace=True)\n",
    "df_target_value = df_target_value[[\"value\"]]\n",
    "df_target_value.rename({\"value\": \"target\"}, axis=1, inplace=True)\n",
    "\n",
    "df_models_mae = df_models_ens_members.merge(df_target_value, left_index=True, right_index=True, how=\"left\")\n",
    "del df_target_value\n",
    "del df_models_ens_members\n",
    "\n",
    "df_models_mae.reset_index(inplace=True)\n",
    "df_models_mae = df_models_mae.groupby([\"ForecastDateTime\", \"model_name\", \"TimeDelta_h\"]).apply(lambda x: (x[\"value\"] - x[\"target\"]).abs().mean()).to_frame()\n",
    "df_models_mae.rename({0: \"mae\"}, axis=1, inplace=True)\n",
    "\n",
    "df_models_mae = df_models_mae.reset_index().pivot(index=[\"ForecastDateTime\"], columns=[\"model_name\", \"TimeDelta_h\"], values=[\"mae\"])\n",
    "df_models_mae.columns = column_name(df_models_mae.columns)"
   ]
  },
  {
   "cell_type": "code",
   "execution_count": 18,
   "metadata": {},
   "outputs": [],
   "source": [
    "df_final = df_final.merge(df_models_mae, left_index=True, right_index=True, how=\"left\")\n",
    "del df_models_mae"
   ]
  },
  {
   "cell_type": "markdown",
   "metadata": {},
   "source": [
    "# Final dataframe"
   ]
  },
  {
   "cell_type": "code",
   "execution_count": 19,
   "metadata": {},
   "outputs": [],
   "source": [
    "df_final.to_hdf('data/data.h5', key=\"data\")"
   ]
  },
  {
   "cell_type": "code",
   "execution_count": null,
   "metadata": {},
   "outputs": [],
   "source": []
  }
 ],
 "metadata": {
  "kernelspec": {
   "display_name": "Python 3.9.4 ('env': venv)",
   "language": "python",
   "name": "python3"
  },
  "language_info": {
   "codemirror_mode": {
    "name": "ipython",
    "version": 3
   },
   "file_extension": ".py",
   "mimetype": "text/x-python",
   "name": "python",
   "nbconvert_exporter": "python",
   "pygments_lexer": "ipython3",
   "version": "3.9.4"
  },
  "orig_nbformat": 4,
  "vscode": {
   "interpreter": {
    "hash": "cc65aa8ac7f596cf279d91d1492cdaf43c6884e4b5c66548ca69169c42397557"
   }
  }
 },
 "nbformat": 4,
 "nbformat_minor": 2
}
