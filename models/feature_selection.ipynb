{
 "cells": [
  {
   "cell_type": "code",
   "execution_count": 78,
   "metadata": {},
   "outputs": [],
   "source": [
    "import pandas as pd\n",
    "import numpy as np\n",
    "import datetime as dt\n",
    "from tqdm import tqdm\n",
    "import matplotlib.pyplot as plt\n",
    "import seaborn as sns\n",
    "from sklearn.feature_selection import SelectKBest\n",
    "from sklearn.feature_selection import f_regression\n",
    "from sklearn.feature_selection import mutual_info_regression\n",
    "from sklearn.linear_model import LinearRegression"
   ]
  },
  {
   "cell_type": "code",
   "execution_count": 79,
   "metadata": {},
   "outputs": [],
   "source": [
    "import warnings\n",
    "warnings.simplefilter(action='ignore', category=pd.errors.PerformanceWarning)"
   ]
  },
  {
   "cell_type": "code",
   "execution_count": 80,
   "metadata": {},
   "outputs": [],
   "source": [
    "def mse(y, y_hat):\n",
    "    return np.mean((y - y_hat)**2)\n",
    "\n",
    "def r2(y_train, y, y_hat):\n",
    "    sse = np.sum((y - y_hat)**2)\n",
    "    sst = np.sum((y - y_train.mean())**2)\n",
    "    return 1 - sse/sst"
   ]
  },
  {
   "cell_type": "code",
   "execution_count": 81,
   "metadata": {},
   "outputs": [],
   "source": [
    "def geo_difference(df):\n",
    "    df = df.copy()\n",
    "    countries = [\"FRA\", \"NLD\", \"GBR\", \"DEU\"]\n",
    "    \n",
    "    n_cols = []\n",
    "    for s_col in df.columns:\n",
    "        s_cty = s_col[s_col.find(\"-\")+1:s_col.find(\"-\")+4]\n",
    "        for a_cty in countries:\n",
    "            if a_cty != s_cty:\n",
    "                a_col = s_col.replace(s_cty, a_cty)\n",
    "                if a_col in df.columns:\n",
    "                    n_cols.append(pd.Series(np.subtract(df[s_col],df[a_col]), name=s_col+\"_minus_\"+a_col))\n",
    "    df = pd.concat([df] + n_cols, axis=1)\n",
    "    return df"
   ]
  },
  {
   "cell_type": "code",
   "execution_count": 82,
   "metadata": {},
   "outputs": [],
   "source": [
    "def get_data():\n",
    "    df_train = pd.read_hdf('../data/EC15_split.h5', key=\"train\")\n",
    "    df_valid = pd.read_hdf('../data/EC15_split.h5', key=\"validation\")\n",
    "    df_test = pd.read_hdf('../data/EC15_split.h5', key=\"test\")\n",
    "    df_train_dif = geo_difference(df_train)\n",
    "    df_val_dif = geo_difference(df_valid)\n",
    "    df_test_dif = geo_difference(df_test)\n",
    "    return df_train_dif, df_val_dif, df_test_dif\n",
    "\n",
    "def get_target_data(df_train_dif, df_val_dif, df_test_dif, target, t):\n",
    "    y_train = df_train_dif[target].shift(-t)[0:len(df_train_dif)-t]\n",
    "    y_valid = df_val_dif[target].shift(-t)[0:len(df_val_dif)-t]\n",
    "    y_test = df_test_dif[target].shift(-t)[0:len(df_test_dif)-t]\n",
    "    df_train_dif = df_train_dif[0:len(df_train_dif)-t]\n",
    "    df_val_dif = df_val_dif[0:len(df_val_dif)-t]\n",
    "    df_test_dif = df_test_dif[0:len(df_test_dif)-t]\n",
    "    return df_train_dif, df_val_dif, df_test_dif, y_train, y_valid, y_test"
   ]
  },
  {
   "cell_type": "code",
   "execution_count": 83,
   "metadata": {},
   "outputs": [],
   "source": [
    "def subset_selection(k, selection_method, X_train, y_train):\n",
    "    X_subset = SelectKBest(selection_method, k=k).fit_transform(X_train, y_train)\n",
    "    cols = []\n",
    "    for i in range(len(X_subset[0,:])):\n",
    "        for col in X_train.columns:\n",
    "            if X_subset[0,i] in X_train[col].unique():\n",
    "                if col not in cols:\n",
    "                    cols.append(col)\n",
    "    return cols"
   ]
  },
  {
   "cell_type": "code",
   "execution_count": 84,
   "metadata": {},
   "outputs": [],
   "source": [
    "def train(X, y):\n",
    "    reg = LinearRegression().fit(X, y)\n",
    "    return reg\n",
    "\n",
    "def train_err(X, y):\n",
    "    reg = LinearRegression().fit(np.array(X).reshape(-1,1), np.array(y).reshape(-1,1))\n",
    "    return reg\n",
    "\n",
    "\n",
    "def predict(model, error_model, X):\n",
    "    y_hat = model.predict(X)\n",
    "    y_hat_err = error_model.predict(np.array(y_hat).reshape(-1,1))\n",
    "    return y_hat + y_hat_err.reshape(len(y_hat_err),)"
   ]
  },
  {
   "cell_type": "code",
   "execution_count": 85,
   "metadata": {},
   "outputs": [],
   "source": [
    "def forecast(X_train, X_valid, k, selection_method, target, t):\n",
    "    X_train, X_valid, X_test, y_train, y_valid, y_test = get_target_data(df_train_dif, df_val_dif, df_test_dif, target=target, t=t)\n",
    "    cols = subset_selection(k, selection_method, X_train, y_train)\n",
    "    print(\"Target: \", target)\n",
    "    print(\"Chosen columns: \", cols)\n",
    "    X_train = X_train[cols]\n",
    "    X_valid = X_valid[cols]\n",
    "    model = train(X_train, y_train)\n",
    "    pred_train = model.predict(X_train)\n",
    "    pred_valid = model.predict(X_valid)\n",
    "    error_model = train(np.array(y_train).reshape(-1,1), np.array(y_train-pred_train).reshape(-1,1))\n",
    "    y_hat_train = predict(model, error_model, X_train)\n",
    "    y_hat_valid = predict(model, error_model, X_valid)\n",
    "    return y_train, y_valid, y_hat_train, y_hat_valid, pred_train, pred_valid, "
   ]
  },
  {
   "cell_type": "code",
   "execution_count": 86,
   "metadata": {},
   "outputs": [],
   "source": [
    "def evaluate(y_train, y_valid, y_hat_train, y_hat_valid, y_hat_train_no_err, y_hat_valid_no_err):\n",
    "    print(\"Train MSE: \", mse(y_train, y_hat_train))\n",
    "    print(\"Train MSE (no error correction): \", mse(y_train, y_hat_train_no_err))\n",
    "    print(\"Validation MSE: \", mse(y_valid, y_hat_valid))\n",
    "    print(\"Validation MSE (no error correction): \", mse(y_valid, y_hat_valid_no_err))\n",
    "    print(\"Train R2: \", r2(y_train, y_train, y_hat_train))\n",
    "    print(\"Train R2 (no error correction): \", r2(y_train, y_train, y_hat_train_no_err))\n",
    "    print(\"Validation R2: \", r2(y_train, y_valid, y_hat_valid))\n",
    "    print(\"Validation R2 (no error correction): \", r2(y_train, y_valid, y_hat_valid_no_err))"
   ]
  },
  {
   "cell_type": "code",
   "execution_count": 87,
   "metadata": {},
   "outputs": [],
   "source": [
    "def plot_forecast(y_hat_train, y_hat_valid, y_hat_train_no_err, y_hat_valid_no_err):\n",
    "    plt.figure(figsize=(20,10))\n",
    "    plt.plot(df_train_dif.index[0:len(df_train_dif)-2], y_train, label=\"Train\")\n",
    "    plt.plot(df_train_dif.index[0:len(df_train_dif)-2], y_hat_train, label=\"Train Forecast\")\n",
    "    plt.plot(df_train_dif.index[0:len(df_train_dif)-2], y_hat_train_no_err, label=\"Train Forecast (no error correction)\")\n",
    "    plt.plot(df_val_dif.index[0:len(df_val_dif)-2], y_valid, label=\"Validation\")\n",
    "    plt.plot(df_val_dif.index[0:len(df_val_dif)-2], y_hat_valid, label=\"Validation Forecast\")\n",
    "    plt.plot(df_val_dif.index[0:len(df_val_dif)-2], y_hat_valid_no_err, label=\"Validation Forecast (no error correction)\")\n",
    "    plt.legend()\n",
    "    plt.show()\n",
    "\n",
    "    plt.scatter(x=y_valid, y=y_valid-y_hat_valid)\n",
    "    plt.scatter(x=y_valid, y=y_valid-y_hat_valid_no_err)"
   ]
  },
  {
   "cell_type": "code",
   "execution_count": 88,
   "metadata": {},
   "outputs": [],
   "source": [
    "targets = [\"ens_std-DEU_TEMP_EC15-24\", \"ens_std-FRA_TEMP_EC15-24\", \"ens_std-DEU_WIND_EC15-24\", \"ens_std-FRA_WIND_EC15-24\"]\n",
    "# targets = [\"ens_std-GBR_WIND_EC15-24\"]\n"
   ]
  },
  {
   "cell_type": "code",
   "execution_count": 89,
   "metadata": {},
   "outputs": [],
   "source": [
    "def forecast_all(targets, k=5, selection_method=f_regression, t=2):\n",
    "    df_train_dif, df_val_dif, df_test_dif = get_data()\n",
    "    for target in targets:\n",
    "        df_train, df_valid, df_test, y_train, y_valid, y_test = get_target_data(df_train_dif, df_val_dif, df_test_dif, target, t)\n",
    "        y_train, y_valid, y_hat_train, y_hat_valid, y_hat_train_no_err, y_hat_valid_no_err = forecast(df_train, df_valid, k, selection_method, target, t)\n",
    "        evaluate(y_train, y_valid, y_hat_train, y_hat_valid, y_hat_train_no_err, y_hat_valid_no_err)\n",
    "        # plot_forecast(y_hat_train, y_hat_valid, y_hat_train_no_err, y_hat_valid_no_err)\n",
    "        print()\n"
   ]
  },
  {
   "cell_type": "code",
   "execution_count": 90,
   "metadata": {},
   "outputs": [
    {
     "name": "stdout",
     "output_type": "stream",
     "text": [
      "Target:  ens_std-DEU_TEMP_EC15-24\n",
      "Chosen columns:  ['ens_std-DEU_TEMP_EC15-48', 'ens_std-FRA_TEMP_EC15-48_minus_ens_std-DEU_TEMP_EC15-48', 'ens_std-GBR_TEMP_EC15-48_minus_ens_std-DEU_TEMP_EC15-48', 'ens_std-DEU_TEMP_EC15-48_minus_ens_std-FRA_TEMP_EC15-48', 'ens_std-DEU_TEMP_EC15-48_minus_ens_std-GBR_TEMP_EC15-48']\n",
      "Train MSE:  0.010838664244026486\n",
      "Train MSE (no error correction):  0.00867242570957085\n",
      "Validation MSE:  0.01164819729400333\n",
      "Validation MSE (no error correction):  0.010536284414649152\n",
      "Train R2:  0.35676593722572336\n",
      "Train R2 (no error correction):  0.48532406782968796\n",
      "Validation R2:  0.4393597881919189\n",
      "Validation R2 (no error correction):  0.4928773460130059\n",
      "\n",
      "Target:  ens_std-FRA_TEMP_EC15-24\n",
      "Chosen columns:  ['ens_std-FRA_TEMP_EC15-48', 'ens_std-FRA_TEMP_EC15-48_minus_ens_std-GBR_TEMP_EC15-48', 'ens_std-FRA_TEMP_EC15-48_minus_ens_std-DEU_TEMP_EC15-48', 'ens_std-GBR_TEMP_EC15-48_minus_ens_std-FRA_TEMP_EC15-48', 'ens_std-DEU_TEMP_EC15-48_minus_ens_std-FRA_TEMP_EC15-48']\n",
      "Train MSE:  0.011856745228075236\n",
      "Train MSE (no error correction):  0.009489666309865115\n",
      "Validation MSE:  0.011660721508229234\n",
      "Validation MSE (no error correction):  0.009272477902993317\n",
      "Train R2:  0.34564899422414275\n",
      "Train R2 (no error correction):  0.4762835352459076\n",
      "Validation R2:  0.30375789613361714\n",
      "Validation R2 (no error correction):  0.44635591213815284\n",
      "\n",
      "Target:  ens_std-DEU_WIND_EC15-24\n",
      "Chosen columns:  ['ens_std-NLD_WIND_EC15-48', 'ens_std-DEU_WIND_EC15-48', 'ens_std-GBR_WIND_EC15-48_minus_ens_std-DEU_WIND_EC15-48', 'ens_std-DEU_WIND_EC15-48_minus_ens_std-FRA_WIND_EC15-48', 'ens_std-DEU_WIND_EC15-48_minus_ens_std-GBR_WIND_EC15-48']\n",
      "Train MSE:  0.00503355013014737\n",
      "Train MSE (no error correction):  0.004053811363981119\n",
      "Validation MSE:  0.005400147798233515\n",
      "Validation MSE (no error correction):  0.004712949879991161\n",
      "Train R2:  0.49239436977300877\n",
      "Train R2 (no error correction):  0.591195593759841\n",
      "Validation R2:  0.5279684993400429\n",
      "Validation R2 (no error correction):  0.5880370524089876\n",
      "\n",
      "Target:  ens_std-FRA_WIND_EC15-24\n",
      "Chosen columns:  ['model_0_value-FRA_WIND_EC15-48', 'ens_std-FRA_WIND_EC15-24', 'ens_std-FRA_WIND_EC15-48', 'ens_std-FRA_WIND_EC15-72', 'ens_std-NLD_WIND_EC15-48']\n",
      "Train MSE:  0.0031665879379338367\n",
      "Train MSE (no error correction):  0.0025562937423056317\n",
      "Validation MSE:  0.0031977415900964683\n",
      "Validation MSE (no error correction):  0.002655732638622857\n",
      "Train R2:  0.5120653200761085\n",
      "Train R2 (no error correction):  0.6061046168965092\n",
      "Validation R2:  0.5956004826106313\n",
      "Validation R2 (no error correction):  0.6641451577261821\n",
      "\n"
     ]
    }
   ],
   "source": [
    "forecast_all(targets)"
   ]
  },
  {
   "cell_type": "code",
   "execution_count": null,
   "metadata": {},
   "outputs": [],
   "source": []
  }
 ],
 "metadata": {
  "kernelspec": {
   "display_name": "Python 3.8.8 ('base')",
   "language": "python",
   "name": "python3"
  },
  "language_info": {
   "codemirror_mode": {
    "name": "ipython",
    "version": 3
   },
   "file_extension": ".py",
   "mimetype": "text/x-python",
   "name": "python",
   "nbconvert_exporter": "python",
   "pygments_lexer": "ipython3",
   "version": "3.8.8"
  },
  "orig_nbformat": 4,
  "vscode": {
   "interpreter": {
    "hash": "6c138f70c18bde96c012d61f695383c8f0f70bffb4883d64504c000ab18eccdb"
   }
  }
 },
 "nbformat": 4,
 "nbformat_minor": 2
}
