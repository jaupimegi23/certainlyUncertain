{
 "cells": [
  {
   "cell_type": "code",
   "execution_count": null,
   "metadata": {
    "datalore": {
     "hide_input_from_viewers": false,
     "hide_output_from_viewers": false,
     "node_id": "AkLS2bcGyPiti9EuKr0OX9",
     "type": "CODE"
    }
   },
   "outputs": [],
   "source": [
    "import numpy as np\n",
    "import pandas as pd\n",
    "import sklearn.metrics as metrics\n",
    "from statsmodels.tsa.api import VAR\n",
    "import matplotlib.pyplot as plt"
   ]
  },
  {
   "cell_type": "code",
   "execution_count": null,
   "metadata": {
    "datalore": {
     "hide_input_from_viewers": false,
     "hide_output_from_viewers": false,
     "node_id": "DulaJ40nHikgxVpH99pYLW",
     "type": "CODE"
    }
   },
   "outputs": [],
   "source": [
    "# Should be preprocessed to include only relevant geographies. If that's not the case, theres a Try-Except statement\n",
    "# For the VAR function (which will break if given insufficient data from certain geographies)\n",
    "df_train = pd.read_hdf('data.h5', key=\"train\")\n",
    "df_val = pd.read_hdf('data.h5', key=\"validation\")\n",
    "df_test = pd.read_hdf('data.h5', key=\"test\")"
   ]
  },
  {
   "cell_type": "markdown",
   "metadata": {},
   "source": [
    "## Data Processing Functions"
   ]
  },
  {
   "cell_type": "code",
   "execution_count": null,
   "metadata": {},
   "outputs": [],
   "source": [
    "\n",
    "def get_data(columns):\n",
    "    return df_train[columns], df_val[columns], df_test[columns]\n",
    "\n",
    "def get_train_val_test(feature_sets, measure, geo):\n",
    "    for feature_set in feature_sets:\n",
    "        for feature in feature_set:\n",
    "            columns = [col for col in df_train.columns if col.startswith(measure + \"-\") and geo in col]\n",
    "            return get_data(columns)\n",
    "\n",
    "def process_data_return_VAR_Xt(df_train, df_val, df_test):\n",
    "\n",
    "    VAR_Xt = pd.concat([df_train, df_val], axis = 0)\n",
    "    t_train = df_train.shape[0]\n",
    "    t_val = np.arange(t_train, t_train + df_val.shape[0])\n",
    "\n",
    "    return VAR_Xt, t_val"
   ]
  },
  {
   "cell_type": "markdown",
   "metadata": {},
   "source": [
    "## VAR Modelling Functions"
   ]
  },
  {
   "cell_type": "code",
   "execution_count": null,
   "metadata": {
    "datalore": {
     "hide_input_from_viewers": false,
     "hide_output_from_viewers": false,
     "node_id": "TPSjZirvEDQSb3zzTxmx0B",
     "type": "CODE"
    }
   },
   "outputs": [],
   "source": [
    "def train_var(VAR_Xt, # Endogenous VAR variables\n",
    "              t_val, # Validation t\n",
    "              w=365*4, # Window lookback size\n",
    "              ar_order=2, # VAR(p = 2)\n",
    "              k=3): # Forecast horizon k = 3\n",
    "\n",
    "    y_hat = []\n",
    "    y_true = []\n",
    "\n",
    "    for t in t_val:\n",
    "        \n",
    "        windowed_data = VAR_Xt.iloc[(t - w + 1): (t + 1), :]\n",
    "        \n",
    "        model = VAR(windowed_data, freq=\"12h\").fit(ar_order)\n",
    "\n",
    "        data_for_pred = windowed_data.values[-ar_order:]\n",
    "\n",
    "        forecasts = model.forecast(y=data_for_pred, steps=k)\n",
    "\n",
    "        if forecasts.shape != np.array(VAR_Xt.iloc[t+1: t+k+1]).shape:\n",
    "            continue\n",
    "\n",
    "        y_hat.append(forecasts)\n",
    "        y_true.append(np.array(VAR_Xt.iloc[t+1: t+k+1]))\n",
    "        \n",
    "    return np.array(y_hat), np.array(y_true)\n",
    "\n",
    "\n",
    "def evaluate(y_hat, y_true, metric=\"MSE\"):\n",
    "    if metric == \"MSE\":\n",
    "        return (np.square(np.subtract(y_hat, y_true))).mean()"
   ]
  },
  {
   "attachments": {},
   "cell_type": "markdown",
   "metadata": {
    "datalore": {
     "hide_input_from_viewers": false,
     "hide_output_from_viewers": false,
     "node_id": "1BdyYw7txDeb36Y65dtV7F",
     "type": "MD"
    }
   },
   "source": [
    "## The vector auto regression (VAR) models we intend to build"
   ]
  },
  {
   "attachments": {},
   "cell_type": "markdown",
   "metadata": {
    "datalore": {
     "hide_input_from_viewers": false,
     "hide_output_from_viewers": false,
     "node_id": "9e4imI2sqfx1IHv9d1CImD",
     "type": "MD"
    }
   },
   "source": [
    "$$\n",
    "\\forall \\quad TH \\quad \\forall \\quad geo \\quad \\forall \\quad measures \\quad AR \\\\\n",
    "\\forall \\quad TH \\quad \\forall \\quad geo \\quad VAR \\quad of \\quad measures \\\\\n",
    "\\forall \\quad TH \\quad \\forall \\quad measure \\quad VAR \\quad of \\quad geos \\\\\n",
    "\\forall \\quad geo \\quad \\forall \\quad measure \\quad VAR \\quad of \\quad THs \\\\\n",
    "VAR \\quad of \\quad THs, \\quad measures \\quad and \\quad geos \\\\\n",
    "$$"
   ]
  },
  {
   "cell_type": "code",
   "execution_count": null,
   "metadata": {
    "datalore": {
     "hide_input_from_viewers": false,
     "hide_output_from_viewers": false,
     "node_id": "176fp7djkl4EWzuHKdFKyw",
     "type": "CODE"
    }
   },
   "outputs": [],
   "source": [
    "MSE_dict = {}\n",
    "\n",
    "for time_horizon in range(0, 372, 6):\n",
    "    for geo in [\"DEU\", \"ITA\"]:\n",
    "        columns = [col for col in df_train.columns if geo in col and col.endswith(\"-\" + str(time_horizon))]\n",
    "        df_train_subset, df_val_subset, df_test_subset = get_data(columns)\n",
    "        VAR_Xt, t_val = process_data_return_VAR_Xt(df_train_subset, df_val_subset, df_test_subset)\n",
    "        \n",
    "        try:\n",
    "            y_hat, y_true = train_var(VAR_Xt, \n",
    "                                    t_val,\n",
    "                                    w=365*4, \n",
    "                                    ar_order=2, \n",
    "                                    k=3)\n",
    "            \n",
    "            mse = evaluate(y_hat, y_true, metric = \"MSE\")\n",
    "\n",
    "            MSE_dict[time_horizon, geo] = mse\n",
    "\n",
    "        except:\n",
    "            print(\"Data is likely too small given the lookback window. Try removing this geo/time horizon and trying again\")\n",
    "            print(time_horizon, geo)\n",
    "            "
   ]
  },
  {
   "cell_type": "markdown",
   "metadata": {},
   "source": [
    "## A worked example"
   ]
  },
  {
   "cell_type": "code",
   "execution_count": null,
   "metadata": {
    "datalore": {
     "hide_input_from_viewers": false,
     "hide_output_from_viewers": false,
     "node_id": "xSgUm63kiYYiv8QjSUl2MV",
     "type": "CODE"
    }
   },
   "outputs": [],
   "source": [
    "y_hat, y_true = train_var(VAR_Xt, t_val)"
   ]
  },
  {
   "cell_type": "code",
   "execution_count": null,
   "metadata": {
    "datalore": {
     "hide_input_from_viewers": false,
     "hide_output_from_viewers": false,
     "node_id": "ZJoMsQlu7XPtYJWFWs63qj",
     "type": "CODE"
    }
   },
   "outputs": [],
   "source": [
    "mse = evaluate(y_hat, y_true, metric = \"MSE\")"
   ]
  },
  {
   "cell_type": "code",
   "execution_count": null,
   "metadata": {
    "datalore": {
     "hide_input_from_viewers": false,
     "hide_output_from_viewers": false,
     "node_id": "xWw31ucYHh3Jb2DlUAt8it",
     "type": "CODE"
    }
   },
   "outputs": [],
   "source": [
    "forecasts_t_plus_12 = pd.DataFrame(y_hat[:, 0, 0]) # just looking 1 period ahead but k = 3 are forecasted\n",
    "true_t_plus_12 = pd.DataFrame(y_true[:, 0, 0])"
   ]
  },
  {
   "cell_type": "code",
   "execution_count": null,
   "metadata": {
    "datalore": {
     "hide_input_from_viewers": false,
     "hide_output_from_viewers": false,
     "node_id": "fgrulUQ0WSVjbGupAy5AP1",
     "type": "CODE"
    }
   },
   "outputs": [],
   "source": [
    "fig, ax = plt.subplots(nrows = 1)\n",
    "\n",
    "fig.set_size_inches(20, 10)\n",
    "\n",
    "ax[0].plot(forecasts_t_plus_12, label =\"True Std\")\n",
    "ax[0].plot(true_t_plus_12, label = \"Forecast Std\")\n",
    "\n",
    "ax[0].legend()"
   ]
  }
 ],
 "metadata": {
  "datalore": {
   "base_environment": "default",
   "computation_mode": "JUPYTER",
   "package_manager": "pip",
   "packages": [],
   "version": 1
  },
  "kernelspec": {
   "display_name": "Python 3.9.13 ('base')",
   "language": "python",
   "name": "python3"
  },
  "language_info": {
   "codemirror_mode": {
    "name": "ipython",
    "version": 3
   },
   "file_extension": ".py",
   "mimetype": "text/x-python",
   "name": "python",
   "nbconvert_exporter": "python",
   "pygments_lexer": "ipython3",
   "version": "3.9.13"
  },
  "vscode": {
   "interpreter": {
    "hash": "55d44009fb8068b47c256c8acdefd385c88bd2786b802fcf54195fa77a762ac3"
   }
  }
 },
 "nbformat": 4,
 "nbformat_minor": 4
}
