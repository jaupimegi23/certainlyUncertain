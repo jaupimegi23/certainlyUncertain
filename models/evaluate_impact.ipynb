{
 "cells": [
  {
   "cell_type": "code",
   "execution_count": null,
   "id": "d0738ea4-bed2-46ce-81c7-83e20285cfac",
   "metadata": {},
   "outputs": [],
   "source": [
    "def winkler_score(y_model_0, y_std, y_true, α):\n",
    "    from scipy.stats import norm\n",
    "    l = norm.ppf(α/2, loc=y_model_0, scale=y_std)\n",
    "    u = norm.ppf(1-α/2, loc=y_model_0, scale=y_std)    \n",
    "    \n",
    "    if y_true < l:\n",
    "        return (u - l) + 2/α * (l - y_true)\n",
    "    elif y_true > u:\n",
    "        return (u - l) + 2/α * (y_true - u)\n",
    "    else:\n",
    "        return (u - l)\n",
    "    \n",
    "def evaluate_impact(y_hat_model_0, y_hat_std, y_forecast_model_0, y_forecast_std, y_true, α):\n",
    "        assert len(y_hat_model_0) == len(y_hat_std), \"Lengths should be same\"\n",
    "        assert len(y_hat_std) == len(y_forecast_model_0), \"Lengths should be same\"\n",
    "        assert len(y_forecast_model_0) == len(y_forecast_std), \"Lengths should be same\"\n",
    "        assert len(y_forecast_std) == len(y_true), \"Lengths should be same\"\n",
    "        \n",
    "        winkler_hat = []\n",
    "        winkler_forecast = []\n",
    "        for i in range(len(y_hat_model_0)):\n",
    "            winkler_hat.append(winkler_score(y_hat_model_0[i], y_hat_std[i], y_true[i], α))\n",
    "            if sum(np.isnan(winkler_hat)):\n",
    "                print(f\"NAn: {y_hat_model_0[i]}, {y_hat_std[i]}, {y_true[i]}\")\n",
    "            winkler_forecast.append(winkler_score(y_forecast_model_0[i], y_forecast_std[i], y_true[i], α))\n",
    "            if sum(np.isnan(winkler_hat)):\n",
    "                print(f\"NAn f: {y_hat_model_0[i]}, {y_hat_std[i]}, {y_true[i]}\")\n",
    "            \n",
    "        return np.array(winkler_hat), np.array(winkler_forecast)"
   ]
  }
 ],
 "metadata": {
  "kernelspec": {
   "display_name": "Python 3 (ipykernel)",
   "language": "python",
   "name": "python3"
  },
  "language_info": {
   "codemirror_mode": {
    "name": "ipython",
    "version": 3
   },
   "file_extension": ".py",
   "mimetype": "text/x-python",
   "name": "python",
   "nbconvert_exporter": "python",
   "pygments_lexer": "ipython3",
   "version": "3.9.13"
  }
 },
 "nbformat": 4,
 "nbformat_minor": 5
}
